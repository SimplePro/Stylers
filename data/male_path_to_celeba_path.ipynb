{
 "cells": [
  {
   "cell_type": "code",
   "execution_count": 1,
   "metadata": {},
   "outputs": [
    {
     "name": "stderr",
     "output_type": "stream",
     "text": [
      "/home/kdhsimplepro/.local/lib/python3.10/site-packages/tqdm/auto.py:22: TqdmWarning: IProgress not found. Please update jupyter and ipywidgets. See https://ipywidgets.readthedocs.io/en/stable/user_install.html\n",
      "  from .autonotebook import tqdm as notebook_tqdm\n"
     ]
    }
   ],
   "source": [
    "import torch\n",
    "import torchvision.transforms.functional as F\n",
    "\n",
    "from PIL import Image\n",
    "\n",
    "from glob import glob\n",
    "\n",
    "import os\n",
    "\n",
    "import pickle"
   ]
  },
  {
   "cell_type": "code",
   "execution_count": 2,
   "metadata": {},
   "outputs": [
    {
     "name": "stdout",
     "output_type": "stream",
     "text": [
      "7443 [8854, 28687, 5265]\n"
     ]
    }
   ],
   "source": [
    "with open(\"../data/celeba_male_number.pickle\", \"rb\") as f:\n",
    "    male_number = pickle.load(f)\n",
    "\n",
    "print(len(male_number), male_number[:3])"
   ]
  },
  {
   "cell_type": "code",
   "execution_count": 3,
   "metadata": {},
   "outputs": [
    {
     "name": "stderr",
     "output_type": "stream",
     "text": [
      "100%|██████████| 7443/7443 [00:50<00:00, 147.35it/s]\n"
     ]
    }
   ],
   "source": [
    "from tqdm import tqdm\n",
    "\n",
    "male_number_to_img = {}\n",
    "\n",
    "# img_paths = glob(\"../data/CelebAMask-HQ/CelebA-HQ-img/*.jpg\")\n",
    "\n",
    "for number in tqdm(male_number):\n",
    "\n",
    "    img_path = os.path.join(\"../data/CelebAMask-HQ/CelebA-HQ-img/\", f\"{number}.jpg\")\n",
    "    male_number_to_img[\"/\".join(img_path.split(\"/\")[2:])] = F.to_tensor(Image.open(img_path).convert(\"RGB\").resize((64, 64)))"
   ]
  },
  {
   "cell_type": "code",
   "execution_count": 4,
   "metadata": {},
   "outputs": [
    {
     "name": "stderr",
     "output_type": "stream",
     "text": [
      "100%|██████████| 7443/7443 [28:26<00:00,  4.36it/s]\n"
     ]
    }
   ],
   "source": [
    "male_paths = glob(\"../data/male/*.jpg\")\n",
    "\n",
    "criterion = torch.nn.MSELoss()\n",
    "\n",
    "male_path_to_celeba_path = {}\n",
    "\n",
    "for path in tqdm(male_paths):\n",
    "    img = F.to_tensor(Image.open(path).convert(\"RGB\").resize((64, 64)))\n",
    "    min_mse = 1e16\n",
    "    celeba_num = 0\n",
    "\n",
    "    for key, value in male_number_to_img.items():\n",
    "        \n",
    "        if key in male_path_to_celeba_path.values():\n",
    "            continue\n",
    "\n",
    "        mse = criterion(img, value)\n",
    "\n",
    "        if mse < min_mse:\n",
    "            min_mse = mse\n",
    "            celeba_num = key\n",
    "\n",
    "    male_path_to_celeba_path[\"/\".join(path.split(\"/\")[2:])] = os.path.join(\"CelebAMask-HQ\", \"CelebA-HQ-img\", f\"{celeba_num}.jpg\")"
   ]
  },
  {
   "cell_type": "code",
   "execution_count": 7,
   "metadata": {},
   "outputs": [
    {
     "name": "stdout",
     "output_type": "stream",
     "text": [
      "7443 [('male/1716.jpg', 'CelebAMask-HQ/CelebA-HQ-img/CelebAMask-HQ/CelebA-HQ-img/26865.jpg.jpg'), ('male/7136.jpg', 'CelebAMask-HQ/CelebA-HQ-img/CelebAMask-HQ/CelebA-HQ-img/25891.jpg.jpg'), ('male/3811.jpg', 'CelebAMask-HQ/CelebA-HQ-img/CelebAMask-HQ/CelebA-HQ-img/6727.jpg.jpg'), ('male/5649.jpg', 'CelebAMask-HQ/CelebA-HQ-img/CelebAMask-HQ/CelebA-HQ-img/22259.jpg.jpg'), ('male/3815.jpg', 'CelebAMask-HQ/CelebA-HQ-img/CelebAMask-HQ/CelebA-HQ-img/21187.jpg.jpg'), ('male/4284.jpg', 'CelebAMask-HQ/CelebA-HQ-img/CelebAMask-HQ/CelebA-HQ-img/25963.jpg.jpg'), ('male/5265.jpg', 'CelebAMask-HQ/CelebA-HQ-img/CelebAMask-HQ/CelebA-HQ-img/9482.jpg.jpg'), ('male/6449.jpg', 'CelebAMask-HQ/CelebA-HQ-img/CelebAMask-HQ/CelebA-HQ-img/7310.jpg.jpg'), ('male/7324.jpg', 'CelebAMask-HQ/CelebA-HQ-img/CelebAMask-HQ/CelebA-HQ-img/12649.jpg.jpg'), ('male/4484.jpg', 'CelebAMask-HQ/CelebA-HQ-img/CelebAMask-HQ/CelebA-HQ-img/15544.jpg.jpg')]\n"
     ]
    }
   ],
   "source": [
    "print(len(male_path_to_celeba_path), list(male_path_to_celeba_path.items())[:10])"
   ]
  },
  {
   "cell_type": "code",
   "execution_count": null,
   "metadata": {},
   "outputs": [],
   "source": [
    "with open(\"./male_path_to_celeba_path.pickle\", \"wb\") as f:\n",
    "    pickle.dump(male_path_to_celeba_path, f)"
   ]
  }
 ],
 "metadata": {
  "kernelspec": {
   "display_name": "Python 3",
   "language": "python",
   "name": "python3"
  },
  "language_info": {
   "codemirror_mode": {
    "name": "ipython",
    "version": 3
   },
   "file_extension": ".py",
   "mimetype": "text/x-python",
   "name": "python",
   "nbconvert_exporter": "python",
   "pygments_lexer": "ipython3",
   "version": "3.10.6"
  },
  "orig_nbformat": 4
 },
 "nbformat": 4,
 "nbformat_minor": 2
}
