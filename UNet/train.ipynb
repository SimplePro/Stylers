{
 "cells": [
  {
   "cell_type": "code",
   "execution_count": 4,
   "metadata": {},
   "outputs": [],
   "source": [
    "from torch.utils.data import random_split, DataLoader\n",
    "\n",
    "from trainer import Trainer\n",
    "from models import UNet\n",
    "from utils import CelebADataset\n",
    "\n",
    "import matplotlib.pyplot as plt\n",
    "\n",
    "import pickle"
   ]
  },
  {
   "cell_type": "code",
   "execution_count": 5,
   "metadata": {},
   "outputs": [
    {
     "name": "stdout",
     "output_type": "stream",
     "text": [
      "7443\n"
     ]
    }
   ],
   "source": [
    "with open(\"../data/celeba_male_number.pickle\", \"rb\") as f:\n",
    "    male_number = pickle.load(f)\n",
    "\n",
    "print(len(male_number))"
   ]
  },
  {
   "cell_type": "code",
   "execution_count": 7,
   "metadata": {},
   "outputs": [
    {
     "name": "stdout",
     "output_type": "stream",
     "text": [
      "6500 943\n"
     ]
    }
   ],
   "source": [
    "dataset = CelebADataset(male_number)\n",
    "trainset, validset = random_split(dataset, lengths=[6500, len(dataset) - 6500])\n",
    "trainloader = DataLoader(trainset, batch_size=32, shuffle=True)\n",
    "validloader = DataLoader(validset, batch_size=64)\n",
    "\n",
    "print(len(trainset), len(validset))"
   ]
  },
  {
   "cell_type": "code",
   "execution_count": 8,
   "metadata": {},
   "outputs": [],
   "source": [
    "model = UNet()\n",
    "device = \"cuda\""
   ]
  },
  {
   "cell_type": "code",
   "execution_count": 9,
   "metadata": {},
   "outputs": [],
   "source": [
    "trainer = Trainer(\n",
    "    device=device,\n",
    "    model=model,\n",
    "    trainloader=trainloader,\n",
    "    validloader=validloader,\n",
    "    lr=0.002\n",
    ")"
   ]
  },
  {
   "cell_type": "code",
   "execution_count": 10,
   "metadata": {},
   "outputs": [
    {
     "name": "stdout",
     "output_type": "stream",
     "text": [
      "EPOCH: 1/50, train_loss: 0.24429, valid_loss: 0.14482, time: 71.847s\n",
      "EPOCH: 2/50, train_loss: 0.11090, valid_loss: 0.10859, time: 71.100s\n",
      "EPOCH: 3/50, train_loss: 0.08966, valid_loss: 0.10201, time: 71.740s\n",
      "EPOCH: 4/50, train_loss: 0.07932, valid_loss: 0.08701, time: 70.706s\n",
      "EPOCH: 5/50, train_loss: 0.07495, valid_loss: 0.08251, time: 71.107s\n",
      "EPOCH: 6/50, train_loss: 0.07449, valid_loss: 0.08245, time: 71.459s\n",
      "EPOCH: 7/50, train_loss: 0.06487, valid_loss: 0.07080, time: 70.626s\n",
      "EPOCH: 8/50, train_loss: 0.06030, valid_loss: 0.06913, time: 71.722s\n",
      "EPOCH: 9/50, train_loss: 0.05976, valid_loss: 0.06775, time: 72.098s\n",
      "EPOCH: 10/50, train_loss: 0.05664, valid_loss: 0.07543, time: 71.560s\n",
      "EPOCH: 11/50, train_loss: 0.05596, valid_loss: 0.06990, time: 72.284s\n",
      "EPOCH: 12/50, train_loss: 0.05562, valid_loss: 0.06680, time: 71.574s\n",
      "EPOCH: 13/50, train_loss: 0.05070, valid_loss: 0.06368, time: 71.776s\n",
      "EPOCH: 14/50, train_loss: 0.05356, valid_loss: 0.07091, time: 72.113s\n",
      "EPOCH: 15/50, train_loss: 0.05100, valid_loss: 0.06288, time: 72.979s\n",
      "EPOCH: 16/50, train_loss: 0.04783, valid_loss: 0.06261, time: 72.286s\n",
      "EPOCH: 17/50, train_loss: 0.04660, valid_loss: 0.06693, time: 71.999s\n",
      "EPOCH: 18/50, train_loss: 0.05000, valid_loss: 0.06343, time: 72.310s\n",
      "EPOCH: 19/50, train_loss: 0.04700, valid_loss: 0.06344, time: 71.863s\n",
      "EPOCH: 20/50, train_loss: 0.04428, valid_loss: 0.07261, time: 71.418s\n",
      "EPOCH: 21/50, train_loss: 0.04526, valid_loss: 0.06087, time: 71.560s\n",
      "EPOCH: 22/50, train_loss: 0.04394, valid_loss: 0.06199, time: 71.228s\n",
      "EPOCH: 23/50, train_loss: 0.04196, valid_loss: 0.06160, time: 72.341s\n",
      "EPOCH: 24/50, train_loss: 0.04079, valid_loss: 0.06437, time: 71.855s\n",
      "EPOCH: 25/50, train_loss: 0.04026, valid_loss: 0.06587, time: 72.422s\n",
      "EPOCH: 26/50, train_loss: 0.04043, valid_loss: 0.06396, time: 72.300s\n",
      "EPOCH: 27/50, train_loss: 0.04006, valid_loss: 0.06361, time: 72.760s\n",
      "EPOCH: 28/50, train_loss: 0.05023, valid_loss: 0.07303, time: 72.552s\n",
      "EPOCH: 29/50, train_loss: 0.04430, valid_loss: 0.05940, time: 72.622s\n",
      "EPOCH: 30/50, train_loss: 0.03921, valid_loss: 0.06248, time: 72.357s\n",
      "EPOCH: 31/50, train_loss: 0.03805, valid_loss: 0.06415, time: 72.164s\n",
      "EPOCH: 32/50, train_loss: 0.03815, valid_loss: 0.06392, time: 71.785s\n",
      "EPOCH: 33/50, train_loss: 0.03636, valid_loss: 0.06475, time: 71.909s\n",
      "EPOCH: 34/50, train_loss: 0.03558, valid_loss: 0.06433, time: 71.479s\n",
      "EPOCH: 35/50, train_loss: 0.03544, valid_loss: 0.06737, time: 71.458s\n",
      "EPOCH: 36/50, train_loss: 0.03492, valid_loss: 0.06618, time: 72.044s\n",
      "EPOCH: 37/50, train_loss: 0.03493, valid_loss: 0.06907, time: 71.770s\n",
      "EPOCH: 38/50, train_loss: 0.04130, valid_loss: 0.07033, time: 71.792s\n",
      "EPOCH: 39/50, train_loss: 0.04193, valid_loss: 0.06972, time: 72.288s\n",
      "EPOCH: 40/50, train_loss: 0.03973, valid_loss: 0.06351, time: 71.582s\n",
      "EPOCH: 41/50, train_loss: 0.03455, valid_loss: 0.06761, time: 72.431s\n",
      "EPOCH: 42/50, train_loss: 0.03299, valid_loss: 0.06739, time: 72.340s\n",
      "EPOCH: 43/50, train_loss: 0.03202, valid_loss: 0.06737, time: 72.406s\n",
      "EPOCH: 44/50, train_loss: 0.03146, valid_loss: 0.07060, time: 71.720s\n",
      "EPOCH: 45/50, train_loss: 0.03116, valid_loss: 0.07265, time: 72.172s\n",
      "EPOCH: 46/50, train_loss: 0.03135, valid_loss: 0.07213, time: 72.130s\n",
      "EPOCH: 47/50, train_loss: 0.03324, valid_loss: 0.06892, time: 71.979s\n",
      "EPOCH: 48/50, train_loss: 0.03094, valid_loss: 0.07157, time: 72.108s\n",
      "EPOCH: 49/50, train_loss: 0.03019, valid_loss: 0.07040, time: 72.889s\n",
      "EPOCH: 50/50, train_loss: 0.02976, valid_loss: 0.07563, time: 71.602s\n"
     ]
    }
   ],
   "source": [
    "trainer.run(epochs=50)"
   ]
  },
  {
   "cell_type": "code",
   "execution_count": 11,
   "metadata": {},
   "outputs": [
    {
     "data": {
      "image/png": "[encoded data removed]",
      "text/plain": [
       "<Figure size 640x480 with 1 Axes>"
      ]
     },
     "metadata": {},
     "output_type": "display_data"
    }
   ],
   "source": [
    "plt.plot(range(50), trainer.train_history[\"avg\"], label=\"train_loss\")\n",
    "plt.plot(range(50), trainer.valid_history[\"avg\"], label=\"valid_loss\")\n",
    "plt.legend()\n",
    "plt.show()"
   ]
  },
  {
   "cell_type": "code",
   "execution_count": 12,
   "metadata": {},
   "outputs": [
    {
     "name": "stdout",
     "output_type": "stream",
     "text": [
      "28\n"
     ]
    }
   ],
   "source": [
    "import torch\n",
    "\n",
    "for idx in range(50):\n",
    "    if trainer.valid_history[\"avg\"][idx] == min(trainer.valid_history[\"avg\"]):\n",
    "        torch.save(trainer.model_params[idx], \"./best_params.pth\")\n",
    "        print(idx)\n",
    "        break"
   ]
  },
  {
   "cell_type": "code",
   "execution_count": 19,
   "metadata": {},
   "outputs": [
    {
     "name": "stdout",
     "output_type": "stream",
     "text": [
      "acc: 0.9675%\n"
     ]
    }
   ],
   "source": [
    "acc = 0\n",
    "\n",
    "model.eval()\n",
    "\n",
    "with torch.no_grad():\n",
    "\n",
    "    for (x, y) in validloader:\n",
    "        x, y = x.to(device), y.to(device)\n",
    "\n",
    "        pred = model(x)\n",
    "\n",
    "        acc += ((torch.round(pred) == y).sum() / y.numel()).item()\n",
    "\n",
    "acc /= len(validloader)\n",
    "print(f\"acc: {round(acc, 4)}%\")"
   ]
  }
 ],
 "metadata": {
  "kernelspec": {
   "display_name": "Python 3",
   "language": "python",
   "name": "python3"
  },
  "language_info": {
   "codemirror_mode": {
    "name": "ipython",
    "version": 3
   },
   "file_extension": ".py",
   "mimetype": "text/x-python",
   "name": "python",
   "nbconvert_exporter": "python",
   "pygments_lexer": "ipython3",
   "version": "3.10.6"
  },
  "orig_nbformat": 4
 },
 "nbformat": 4,
 "nbformat_minor": 2
}
